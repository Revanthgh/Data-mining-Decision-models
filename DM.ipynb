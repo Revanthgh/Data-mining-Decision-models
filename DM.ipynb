{
 "cells": [
  {
   "cell_type": "markdown",
   "metadata": {},
   "source": [
    "# Data mining practice problems "
   ]
  },
  {
   "cell_type": "raw",
   "metadata": {},
   "source": [
    "# 1. You will write a small program to determine the result of a rock/paper/scissor game between two players. The rules of the game are rather simple: scissors beats paper, rock beats scissors, and paper beats rock. Write a program that will generate the outcome given the choice of the two players. The program should ask for the choice of the two players and print out the outcome. Get user input on the number of rounds of the game to be played and print out the overall winner by keeping track of the number of wins/loses by each player and ties."
   ]
  },
  {
   "cell_type": "code",
   "execution_count": 1,
   "metadata": {},
   "outputs": [],
   "source": [
    "import random"
   ]
  },
  {
   "cell_type": "code",
   "execution_count": null,
   "metadata": {},
   "outputs": [
    {
     "name": "stdout",
     "output_type": "stream",
     "text": [
      "Rock = r, Paper = p, Scissors = s, Quit = q\n"
     ]
    }
   ],
   "source": [
    "moves = [\"r\", \"p\", \"s\"]\n",
    "player_wins = [\"pr\", \"sp\", \"rs\"]\n",
    "print(\"Rock = r, Paper = p, Scissors = s, Quit = q\")\n",
    "player_score = 0\n",
    "\n",
    "while True:\n",
    "    player_move = input(\"Your move: \")\n",
    "    computer_move = random.choice(moves)\n",
    "\n",
    "    print(\"You:\", player_move)\n",
    "    print(\"Me:\", computer_move)\n",
    " \n",
    "    if player_move == computer_move:\n",
    "        print(\"Tie (-1)\")\n",
    "        player_score = player_score - 1\n",
    "        print(\"score:\", player_score)\n",
    "        print(\" \")\n",
    "\n",
    "    elif player_move == \"q\":\n",
    "        print(\"Your total score is\", player_score)\n",
    "        break\n",
    "\n",
    "    elif player_move + computer_move in player_wins:\n",
    "        print(\"You win! (+3)\")\n",
    "        player_score = player_score + 3\n",
    "        print(\"score:\", player_score)\n",
    "        print(\" \")\n",
    "    else:\n",
    "        print(\"You lose! (-2)\")\n",
    "        player_score = player_score - 2\n",
    "        print(\"score:\", player_score)\n",
    "        print(\" \")\n",
    "\n",
    "    if player_score <= -10:\n",
    "        player_score = 0\n",
    "        print(\"Your score is too low... Play again from 0.\")"
   ]
  },
  {
   "cell_type": "code",
   "execution_count": null,
   "metadata": {},
   "outputs": [],
   "source": [
    "# 2. Write a program to check if a given string is a palindrome. Also be sure to include features in the program that account for spaces in the given input string.\n"
   ]
  },
  {
   "cell_type": "code",
   "execution_count": null,
   "metadata": {},
   "outputs": [],
   "source": [
    "str = input(\"Enter the string: \")\n",
    "l = len(str)\n",
    "p = l-1\n",
    "index = 0\n",
    "while index < p:\n",
    "    if str[index] == str[p]:\n",
    "        index = index + 1\n",
    "        p = p-1\n",
    "        if index == p or index + 1 == p:\n",
    "            print(\"String is a palindrome\")\n",
    "    else:\n",
    "        print(\"string is not a palindrome\")\n",
    "        break"
   ]
  },
  {
   "cell_type": "raw",
   "metadata": {},
   "source": [
    "#3. Write a function to calculate the factorial of an integer using recursion\n"
   ]
  },
  {
   "cell_type": "code",
   "execution_count": null,
   "metadata": {},
   "outputs": [],
   "source": [
    "def recur_factorial(n):  \n",
    "   if n == 1:  \n",
    "       return n  \n",
    "   else:  \n",
    "       return n*recur_factorial(n-1)  \n",
    "# take input from the user  \n",
    "num = int(input(\"Enter a number: \"))  \n",
    "# check is the number is negative  \n",
    "if num < 0:  \n",
    "   print(\"Sorry, factorial does not exist for negative numbers\")  \n",
    "elif num == 0:  \n",
    "   print(\"The factorial of 0 is 1\")  \n",
    "else:  \n",
    "   print(\"The factorial of\",num,\"is\",recur_factorial(num))"
   ]
  },
  {
   "cell_type": "raw",
   "metadata": {},
   "source": [
    "# 4. Write a program that computes the sum of all multiple of two given smaller natural numbers below a given large natural number"
   ]
  },
  {
   "cell_type": "code",
   "execution_count": null,
   "metadata": {},
   "outputs": [],
   "source": [
    "def calculate_sum(a, N):\n",
    " \n",
    "    # Number of multiples\n",
    "    m = N / a\n",
    " \n",
    "    # sum of first m natural numbers\n",
    "    sum = m * (m + 1) / 2\n",
    " \n",
    "    # sum of multiples\n",
    "    ans = a * sum\n",
    " \n",
    "    print(\"Sum of multiples of \", a,\n",
    "          \" up to \", N, \" = \", ans)\n",
    " \n",
    "# Driver Code\n",
    "calculate_sum(8, 49)\n"
   ]
  },
  {
   "cell_type": "raw",
   "metadata": {},
   "source": [
    "#  5.Generate a random 20 × 20 grid of two digit natural numbers. Find the largest product of four diagonally adjacent numbers."
   ]
  },
  {
   "cell_type": "code",
   "execution_count": null,
   "metadata": {},
   "outputs": [],
   "source": [
    "import numpy as np\n",
    "g= np.random.randint(low = 11, high = 15, size =(20,20))\n",
    " \n",
    "maxp = 0\n",
    "rows, cols, path_size = len(g), len(g[0]), 4\n",
    "for i in range(rows):\n",
    "    for j in range(cols - path_size + 1):\n",
    "        phv = max(g[i][j] * g[i][j+1] * g[i][j+2] * g[i][j+3],\n",
    "                  g[j][i] * g[j+1][i] * g[j+2][i] * g[j+3][i])\n",
    "        if i <= rows-path_size:\n",
    "           pdd = max(g[i][j] * g[i+1][j+1] * g[i+2][j+2] * g[i+3][j+3],\n",
    "                     g[i][j+3] * g[i+1][j+2] * g[i+2][j+1] * g[i+3][j])\n",
    "        maxp = max(maxp, phv, pdd)\n",
    "\n",
    "print (\"Greatest product of\", path_size, \"adjacent numbers:\", maxp)"
   ]
  },
  {
   "cell_type": "code",
   "execution_count": null,
   "metadata": {},
   "outputs": [],
   "source": []
  }
 ],
 "metadata": {
  "kernelspec": {
   "display_name": "Python 3",
   "language": "python",
   "name": "python3"
  },
  "language_info": {
   "codemirror_mode": {
    "name": "ipython",
    "version": 3
   },
   "file_extension": ".py",
   "mimetype": "text/x-python",
   "name": "python",
   "nbconvert_exporter": "python",
   "pygments_lexer": "ipython3",
   "version": "3.6.5"
  }
 },
 "nbformat": 4,
 "nbformat_minor": 2
}
