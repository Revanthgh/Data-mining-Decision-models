{
 "cells": [
  {
   "cell_type": "markdown",
   "metadata": {},
   "source": [
    "\n",
    "# Decision Models Assignment 1\n"
   ]
  },
  {
   "cell_type": "code",
   "execution_count": 9,
   "metadata": {},
   "outputs": [],
   "source": [
    "%matplotlib inline\n",
    "import pandas as pd\n",
    "from statsmodels.graphics.tsaplots import plot_acf\n",
    "import matplotlib.pyplot as plt\n",
    "import numpy as np\n",
    "from scipy.stats import chisquare"
   ]
  },
  {
   "cell_type": "markdown",
   "metadata": {},
   "source": [
    "#Reading sample data and checking distributions for Interarrival time and Work times"
   ]
  },
  {
   "cell_type": "code",
   "execution_count": 10,
   "metadata": {},
   "outputs": [
    {
     "name": "stdout",
     "output_type": "stream",
     "text": [
      "   inter_arrival\n",
      "0       2.448913\n",
      "1       1.615896\n",
      "2       3.945805\n",
      "3       5.264312\n",
      "4       0.155919\n",
      "5       1.423662\n",
      "6       0.599205\n",
      "7       1.165670\n",
      "8       0.228301\n",
      "9       0.500242\n",
      "   Woorking_hours\n",
      "0      100.571543\n",
      "1       50.905029\n",
      "2        5.155903\n",
      "3       51.773531\n",
      "4       53.861527\n",
      "5       54.076150\n",
      "6       65.958526\n",
      "7       28.211962\n",
      "8       50.064782\n",
      "9       21.190047\n"
     ]
    }
   ],
   "source": [
    "inter_name = \"inter_arr.csv\"\n",
    "work_hours_name = \"wh.csv\"\n",
    "\n",
    "inter_arrival = pd.read_csv(inter_name)\n",
    "working_hours = pd.read_csv(work_hours_name)\n",
    "\n",
    "print(inter_arrival.head(10))\n",
    "print(working_hours.head(10))"
   ]
  },
  {
   "cell_type": "code",
   "execution_count": 11,
   "metadata": {},
   "outputs": [
    {
     "data": {
      "image/png": "[encoded data removed]",
      "text/plain": [
       "<Figure size 432x288 with 1 Axes>"
      ]
     },
     "metadata": {},
     "output_type": "display_data"
    }
   ],
   "source": [
    "inter_arrival.plot\n",
    "plot_acf(inter_arrival[\"inter_arrival\"])\n",
    "plt.show()"
   ]
  },
  {
   "cell_type": "code",
   "execution_count": 12,
   "metadata": {},
   "outputs": [
    {
     "data": {
      "image/png": "[encoded data removed]",
      "text/plain": [
       "<Figure size 432x288 with 1 Axes>"
      ]
     },
     "metadata": {},
     "output_type": "display_data"
    }
   ],
   "source": [
    "plt.hist(inter_arrival[\"inter_arrival\"])\n",
    "plt.show()\n"
   ]
  },
  {
   "cell_type": "markdown",
   "metadata": {},
   "source": [
    "The Histogram indicates that the distribution is not normal and looks close to exponential distribution.\n",
    "\n",
    "Performing Chi Square test to verify the same using sample statistic(mean)"
   ]
  },
  {
   "cell_type": "code",
   "execution_count": 13,
   "metadata": {},
   "outputs": [
    {
     "data": {
      "text/plain": [
       "1.955700414734899"
      ]
     },
     "execution_count": 13,
     "metadata": {},
     "output_type": "execute_result"
    }
   ],
   "source": [
    "exp_mean_inter = inter_arrival[\"inter_arrival\"].mean()\n",
    "exp_mean_inter"
   ]
  },
  {
   "cell_type": "code",
   "execution_count": 14,
   "metadata": {},
   "outputs": [],
   "source": [
    "compare_exp = pd.DataFrame(np.random.exponential(exp_mean_inter,10000))"
   ]
  },
  {
   "cell_type": "code",
   "execution_count": 15,
   "metadata": {},
   "outputs": [],
   "source": [
    "chisq_dict = {}\n",
    "chisq_dict[\"0_2.5\"] = 0\n",
    "chisq_dict[\"2.5_5\"] = 0\n",
    "chisq_dict[\"5_7.5\"] = 0\n",
    "chisq_dict[\"7.5_10\"] = 0\n",
    "chisq_dict[\"10_12.5\"] = 0\n",
    "chisq_dict[\"12.5_15\"] = 0\n",
    "chisq_dict[\"15\"] = 0\n",
    "for i in compare_exp[0].values:\n",
    "    if 0 < i <= 2.5:\n",
    "        if chisq_dict[\"0_2.5\"] ==0:\n",
    "            chisq_dict[\"0_2.5\"] = 1\n",
    "        else:\n",
    "            chisq_dict[\"0_2.5\"] += 1\n",
    "    if 2.5 < i <= 5:\n",
    "        if chisq_dict[\"2.5_5\"] == 0:\n",
    "            chisq_dict[\"2.5_5\"] = 1\n",
    "        else:\n",
    "            chisq_dict[\"2.5_5\"] += 1\n",
    "    if 5 < i <= 7.5:\n",
    "        if chisq_dict[\"5_7.5\"] == 0:\n",
    "            chisq_dict[\"5_7.5\"] = 1\n",
    "        else:\n",
    "            chisq_dict[\"5_7.5\"] += 1\n",
    "    if 7.5 < i <= 10:\n",
    "        if chisq_dict[\"7.5_10\"] == 0:\n",
    "            chisq_dict[\"7.5_10\"] = 1\n",
    "        else:\n",
    "            chisq_dict[\"7.5_10\"] += 1\n",
    "    if 10 < i <= 12.5:\n",
    "        if chisq_dict[\"10_12.5\"] == 0:\n",
    "            chisq_dict[\"10_12.5\"] = 1\n",
    "        else:\n",
    "            chisq_dict[\"10_12.5\"] += 1\n",
    "    if 12.5 < i <= 15:\n",
    "        if chisq_dict[\"12.5_15\"] == 0:\n",
    "            chisq_dict[\"12.5_15\"] = 1\n",
    "        else:\n",
    "            chisq_dict[\"12.5_15\"] += 1\n",
    "    if i > 15:\n",
    "        if chisq_dict[\"15\"] == 0:\n",
    "            chisq_dict[\"15\"] = 1\n",
    "        else:\n",
    "            chisq_dict[\"15\"] += 1"
   ]
  },
  {
   "cell_type": "code",
   "execution_count": 16,
   "metadata": {},
   "outputs": [],
   "source": [
    "exp_dict = {}\n",
    "exp_dict[\"0_2.5\"] = 0\n",
    "exp_dict[\"2.5_5\"] = 0\n",
    "exp_dict[\"5_7.5\"] = 0\n",
    "exp_dict[\"7.5_10\"] = 0\n",
    "exp_dict[\"10_12.5\"] = 0\n",
    "exp_dict[\"12.5_15\"] = 0\n",
    "exp_dict[\"15\"] = 0\n",
    "for i in inter_arrival[\"inter_arrival\"].values:\n",
    "    if 0 < i <= 2.5:\n",
    "        if exp_dict[\"0_2.5\"] ==0:\n",
    "            exp_dict[\"0_2.5\"] = 1\n",
    "        else:\n",
    "            exp_dict[\"0_2.5\"] += 1\n",
    "    if 2.5 < i <= 5:\n",
    "        if exp_dict[\"2.5_5\"] == 0:\n",
    "            exp_dict[\"2.5_5\"] = 1\n",
    "        else:\n",
    "            exp_dict[\"2.5_5\"] += 1\n",
    "    if 5 < i <= 7.5:\n",
    "        if exp_dict[\"5_7.5\"] == 0:\n",
    "            exp_dict[\"5_7.5\"] = 1\n",
    "        else:\n",
    "            exp_dict[\"5_7.5\"] += 1\n",
    "    if 7.5 < i <= 10:\n",
    "        if exp_dict[\"7.5_10\"] == 0:\n",
    "            exp_dict[\"7.5_10\"] = 1\n",
    "        else:\n",
    "            exp_dict[\"7.5_10\"] += 1\n",
    "    if 10 < i <= 12.5:\n",
    "        if exp_dict[\"10_12.5\"] == 0:\n",
    "            exp_dict[\"10_12.5\"] = 1\n",
    "        else:\n",
    "            exp_dict[\"10_12.5\"] += 1\n",
    "    if 12.5 < i <= 15:\n",
    "        if exp_dict[\"12.5_15\"] == 0:\n",
    "            exp_dict[\"12.5_15\"] = 1\n",
    "        else:\n",
    "            exp_dict[\"12.5_15\"] += 1\n",
    "    if i > 15:\n",
    "        if exp_dict[\"15\"] == 0:\n",
    "            exp_dict[\"15\"] = 1\n",
    "        else:\n",
    "            exp_dict[\"15\"] += 1\n"
   ]
  },
  {
   "cell_type": "code",
   "execution_count": 17,
   "metadata": {},
   "outputs": [
    {
     "name": "stdout",
     "output_type": "stream",
     "text": [
      " The pvalue of the chisq test is .. 0.11676837925139366\n"
     ]
    }
   ],
   "source": [
    "chi_sq, p_value = chisquare(list(chisq_dict.values()),list(exp_dict.values()))\n",
    "\n",
    "print (\" The pvalue of the chisq test is ..\", p_value) "
   ]
  },
  {
   "cell_type": "markdown",
   "metadata": {},
   "source": [
    "The inter-arrival time follows an exponential distribution with mean 1.95\n",
    "\n",
    "Similarly, identifying the distribution for Work time.\n",
    "\n",
    "Firstly, we plot the ACF to check for auto correlation"
   ]
  },
  {
   "cell_type": "code",
   "execution_count": 18,
   "metadata": {},
   "outputs": [
    {
     "data": {
      "image/png": "[encoded data removed]",
      "text/plain": [
       "<Figure size 432x288 with 1 Axes>"
      ]
     },
     "metadata": {},
     "output_type": "display_data"
    }
   ],
   "source": [
    "working_hours.plot\n",
    "plot_acf(working_hours[\"Woorking_hours\"])\n",
    "plt.show()"
   ]
  },
  {
   "cell_type": "code",
   "execution_count": 19,
   "metadata": {},
   "outputs": [
    {
     "data": {
      "image/png": "[encoded data removed]",
      "text/plain": [
       "<Figure size 432x288 with 1 Axes>"
      ]
     },
     "metadata": {},
     "output_type": "display_data"
    }
   ],
   "source": [
    "plt.hist(working_hours[\"Woorking_hours\"])\n",
    "plt.show()"
   ]
  },
  {
   "cell_type": "markdown",
   "metadata": {},
   "source": [
    "The histogram shows that the distribution is not normal and rather follows an exponential distribution\n",
    "\n",
    "Performing Chi Squared Test using Sample Mean"
   ]
  },
  {
   "cell_type": "code",
   "execution_count": 20,
   "metadata": {},
   "outputs": [
    {
     "data": {
      "text/plain": [
       "59.06957419419534"
      ]
     },
     "execution_count": 20,
     "metadata": {},
     "output_type": "execute_result"
    }
   ],
   "source": [
    "exp_mean_working = working_hours[\"Woorking_hours\"].mean()\n",
    "exp_mean_working"
   ]
  },
  {
   "cell_type": "code",
   "execution_count": 21,
   "metadata": {},
   "outputs": [],
   "source": [
    "compare_exp_w = pd.DataFrame(np.random.exponential(exp_mean_working,10000))"
   ]
  },
  {
   "cell_type": "code",
   "execution_count": 23,
   "metadata": {},
   "outputs": [],
   "source": [
    "exp_dict_w = {}\n",
    "exp_dict_w[\"0_100\"] = 0\n",
    "exp_dict_w[\"100_200\"] = 0\n",
    "exp_dict_w[\"200_300\"] = 0\n",
    "exp_dict_w[\"300_400\"] = 0\n",
    "exp_dict_w[\"400_500\"] = 0\n",
    "exp_dict_w[\"500_600\"] = 0\n",
    "exp_dict_w[\"600\"] = 0\n",
    "for i in working_hours[\"Woorking_hours\"].values:\n",
    "    if 0 < i <= 100:\n",
    "        if exp_dict_w[\"0_100\"] ==0:\n",
    "            exp_dict_w[\"0_100\"] = 1\n",
    "        else:\n",
    "            exp_dict_w[\"0_100\"] += 1\n",
    "    if 100 < i <= 200:\n",
    "        if exp_dict_w[\"100_200\"] == 0:\n",
    "            exp_dict_w[\"100_200\"] = 1\n",
    "        else:\n",
    "            exp_dict_w[\"100_200\"] += 1\n",
    "    if 200 < i <= 300:\n",
    "        if exp_dict_w[\"200_300\"] == 0:\n",
    "            exp_dict_w[\"200_300\"] = 1\n",
    "        else:\n",
    "            exp_dict_w[\"200_300\"] += 1\n",
    "    if 300 < i <= 400:\n",
    "        if exp_dict_w[\"300_400\"] == 0:\n",
    "            exp_dict_w[\"300_400\"] = 1\n",
    "        else:\n",
    "            exp_dict_w[\"300_400\"] += 1\n",
    "    if 400 < i <= 500:\n",
    "        if exp_dict_w[\"400_500\"] == 0:\n",
    "            exp_dict_w[\"400_500\"] = 1\n",
    "        else:\n",
    "            exp_dict_w[\"400_500\"] += 1\n",
    "    if 500 < i <= 600:\n",
    "        if exp_dict_w[\"500_600\"] == 0:\n",
    "            exp_dict_w[\"500_600\"] = 1\n",
    "        else:\n",
    "            exp_dict_w[\"500_600\"] += 1\n",
    "    if i > 600:\n",
    "        if exp_dict_w[\"600\"] == 0:\n",
    "            exp_dict_w[\"600\"] = 1\n",
    "        else:\n",
    "            exp_dict_w[\"600\"] += 1\n"
   ]
  },
  {
   "cell_type": "code",
   "execution_count": 24,
   "metadata": {},
   "outputs": [
    {
     "name": "stdout",
     "output_type": "stream",
     "text": [
      " The pvalue of the chisq test is .. 0.0\n"
     ]
    }
   ],
   "source": [
    "chi_sq_w, p_value_w = chisquare(list(chisq_dict_w.values()),list(exp_dict_w.values()))\n",
    "\n",
    "print (\" The pvalue of the chisq test is ..\", p_value_w) "
   ]
  },
  {
   "cell_type": "markdown",
   "metadata": {},
   "source": [
    "P-Value is high. We donot have significant evidence to reject the null hypothesis that Work time follows exponential distribution with mean 59.069."
   ]
  },
  {
   "cell_type": "markdown",
   "metadata": {},
   "source": [
    "SIMULATION"
   ]
  },
  {
   "cell_type": "markdown",
   "metadata": {},
   "source": [
    "#Importing libraries"
   ]
  },
  {
   "cell_type": "code",
   "execution_count": 1,
   "metadata": {},
   "outputs": [],
   "source": [
    "import simpy\n",
    "import numpy as np\n",
    "import random\n",
    "import time"
   ]
  },
  {
   "cell_type": "code",
   "execution_count": 2,
   "metadata": {},
   "outputs": [],
   "source": [
    "LIFTS = 3        # Number of open aisles\n",
    "CLOSING = 60*10   # Runtime of simulation"
   ]
  },
  {
   "cell_type": "markdown",
   "metadata": {},
   "source": [
    "#Creating Q class and init to initialize the attributes of a class. Initialize methods like isEmpty,enqueue,dequeue. Self represnts the same object of class Observer"
   ]
  },
  {
   "cell_type": "code",
   "execution_count": 3,
   "metadata": {},
   "outputs": [],
   "source": [
    "class Q:\n",
    "    \"\"\" Lift Queue \"\"\"\n",
    "    def __init__(self):\n",
    "        self.items = []\n",
    "\n",
    "    def isEmpty(self):\n",
    "        return self.items == []\n",
    "\n",
    "    def enqueue(self, item):\n",
    "        self.items.insert(0,item)\n",
    "\n",
    "    def dequeue(self):\n",
    "        return self.items.pop()\n",
    "    \n",
    "    def dequeue_n(self, n):\n",
    "        send_list = []\n",
    "        for i in range(n):\n",
    "            send_list.append(self.dequeue())\n",
    "        return send_list\n",
    "\n",
    "    def size(self):\n",
    "        return len(self.items)"
   ]
  },
  {
   "cell_type": "markdown",
   "metadata": {},
   "source": [
    "#Creaing class Lifter and accessing variables that belongs to this class"
   ]
  },
  {
   "cell_type": "code",
   "execution_count": 4,
   "metadata": {},
   "outputs": [],
   "source": [
    "class Lifter:\n",
    "    \"\"\" properties of the passenger\"\"\"\n",
    "    def __init__(self):\n",
    "        #self.name = name\n",
    "        self.floor_choice = np.random.choice([2,3,4,5,6,7])\n",
    "        self.work_time = random.expovariate(1/59)\n",
    "\n"
   ]
  },
  {
   "cell_type": "markdown",
   "metadata": {},
   "source": [
    "#Creating Lift class and init to initialize the attributes of a class. Initialize methods like to fix maximum number of floors,entering and exiting people from lift. Self represnts the same object of class Observer"
   ]
  },
  {
   "cell_type": "code",
   "execution_count": 5,
   "metadata": {},
   "outputs": [],
   "source": [
    "class Lift(object):\n",
    "    \"\"\"Elevator functions.\"\"\"\n",
    "\n",
    "    def __init__(self,capacity=10):\n",
    "        #self.travel_time = travel_time\n",
    "        self.passenger_list = list()\n",
    "        self.capacity = capacity\n",
    "        self.floor = 0\n",
    "    \n",
    "    def floor_7(self):\n",
    "        self.floor = 7\n",
    "        \n",
    "    def get_floor(self, d, default=None):\n",
    "        rev = (len(d) - idx for idx, item in enumerate(reversed(d), 1) if item)\n",
    "        return 1+next(rev, default)\n",
    "        \n",
    "    def find_travel_time(self):\n",
    "        self.trip_up = {}\n",
    "        for j in range(2,8):\n",
    "            self.trip_up[j] = 0\n",
    "        for i in self.passenger_list:   \n",
    "            if self.trip_up[i.floor_choice]==0:\n",
    "                self.trip_up[i.floor_choice] = 1\n",
    "            else:\n",
    "                self.trip_up[i.floor_choice]+=1\n",
    "        self.drop_floor = self.get_floor(list(self.trip_up.values()))\n",
    "        deliver_floor = sum(np.array(list(self.trip_up.values()))!= 0)\n",
    "        return 15*deliver_floor + 10*(6-deliver_floor)\n",
    "\n",
    "    def get_down(self):\n",
    "        return 10*6\n",
    "             \n",
    "            \n",
    "    def ferry(self,env,main_queue):\n",
    "        \"\"\" Elevator car ferry \"\"\"\n",
    "        i = 0\n",
    "        while (i == 0):\n",
    "            self.add_people(main_queue)\n",
    "            #print(main_queue.size())\n",
    "            print(\"The trip starts at ground floor by lift\", G.elCount, env.now)\n",
    "            print(\"Number of people in main queue\", main_queue.size())\n",
    "            yield env.timeout(self.find_travel_time())\n",
    "            \n",
    "            self.remove_people()\n",
    "            \n",
    "            yield env.timeout(self.get_down())\n",
    "            print(\"The trip up is finished by lift\", G.elCount, env.now)\n",
    "            G.elCount = G.elCount - 1\n",
    "            i = i + 1\n",
    "            \n",
    "            \n",
    "            #self.floor_7()\n",
    "      \n",
    "               \n",
    "    def add_people(self,queue_temp):\n",
    "        \"\"\"Adding people from the queue\"\"\"\n",
    "        self.passenger_list = []\n",
    "        self.passenger_list = self.passenger_list + queue_temp.dequeue_n(self.capacity)\n",
    "        \n",
    "    def remove_people(self):\n",
    "        self.passenger_list = []\n",
    "\n",
    "class G:\n",
    "    elCount = 0\n"
   ]
  },
  {
   "cell_type": "markdown",
   "metadata": {},
   "source": [
    "#Creating process class and Seeding a pseudo-random number generator"
   ]
  },
  {
   "cell_type": "code",
   "execution_count": 6,
   "metadata": {},
   "outputs": [],
   "source": [
    "class Process(object):\n",
    "    def run(self, seed):\n",
    "        random.seed(seed)\n",
    "        env = simpy.Environment()\n",
    "        main_queue = Q()\n",
    "        s = Scheduling()\n",
    "        #e = Elevator()\n",
    "        env.process(s.generate(env,main_queue))\n",
    "        #env.process(e.ferry(env, main_queue))\n",
    "        env.run(until=320)\n",
    "        #return main_queue\n"
   ]
  },
  {
   "cell_type": "code",
   "execution_count": 7,
   "metadata": {},
   "outputs": [
    {
     "name": "stdout",
     "output_type": "stream",
     "text": [
      "Total number of people in the queue 1\n",
      "Total number of people in the queue 2\n",
      "Total number of people in the queue 3\n",
      "Total number of people in the queue 4\n",
      "Total number of people in the queue 5\n",
      "Total number of people in the queue 6\n",
      "Total number of people in the queue 7\n",
      "Total number of people in the queue 8\n",
      "Total number of people in the queue 9\n",
      "Total number of people in the queue 10\n",
      "Total number of people in the queue 11\n",
      "Total number of people in the queue 12\n",
      "The trip starts at ground floor by lift 1 26.892470361114928\n",
      "Number of people in main queue 2\n",
      "Total number of people in the queue 3\n",
      "Total number of people in the queue 4\n",
      "Total number of people in the queue 5\n",
      "Total number of people in the queue 6\n",
      "Total number of people in the queue 7\n",
      "Total number of people in the queue 8\n",
      "Total number of people in the queue 9\n",
      "Total number of people in the queue 10\n",
      "Total number of people in the queue 11\n",
      "Total number of people in the queue 12\n",
      "The trip starts at ground floor by lift 2 37.82266040912824\n",
      "Number of people in main queue 2\n",
      "Total number of people in the queue 3\n",
      "Total number of people in the queue 4\n",
      "Total number of people in the queue 5\n",
      "Total number of people in the queue 6\n",
      "Total number of people in the queue 7\n",
      "Total number of people in the queue 8\n",
      "Total number of people in the queue 9\n",
      "Total number of people in the queue 10\n",
      "Total number of people in the queue 11\n",
      "Total number of people in the queue 12\n",
      "The trip starts at ground floor by lift 3 45.79695467002908\n",
      "Number of people in main queue 2\n",
      "Total number of people in the queue 3\n",
      "Total number of people in the queue 4\n",
      "Total number of people in the queue 5\n",
      "Total number of people in the queue 6\n",
      "Total number of people in the queue 7\n",
      "Total number of people in the queue 8\n",
      "Total number of people in the queue 9\n",
      "Total number of people in the queue 10\n",
      "Total number of people in the queue 11\n",
      "Total number of people in the queue 12\n",
      "Total number of people in the queue 13\n",
      "Total number of people in the queue 14\n",
      "Total number of people in the queue 15\n",
      "Total number of people in the queue 16\n",
      "Total number of people in the queue 17\n",
      "Total number of people in the queue 18\n",
      "Total number of people in the queue 19\n",
      "Total number of people in the queue 20\n",
      "Total number of people in the queue 21\n",
      "Total number of people in the queue 22\n",
      "Total number of people in the queue 23\n",
      "Total number of people in the queue 24\n",
      "Total number of people in the queue 25\n",
      "Total number of people in the queue 26\n",
      "Total number of people in the queue 27\n",
      "Total number of people in the queue 28\n",
      "Total number of people in the queue 29\n",
      "Total number of people in the queue 30\n",
      "Total number of people in the queue 31\n",
      "Total number of people in the queue 32\n",
      "Total number of people in the queue 33\n",
      "Total number of people in the queue 34\n",
      "Total number of people in the queue 35\n",
      "Total number of people in the queue 36\n",
      "Total number of people in the queue 37\n",
      "Total number of people in the queue 38\n",
      "Total number of people in the queue 39\n",
      "Total number of people in the queue 40\n",
      "Total number of people in the queue 41\n",
      "Total number of people in the queue 42\n",
      "Total number of people in the queue 43\n",
      "Total number of people in the queue 44\n",
      "Total number of people in the queue 45\n",
      "Total number of people in the queue 46\n",
      "Total number of people in the queue 47\n",
      "Total number of people in the queue 48\n",
      "Total number of people in the queue 49\n",
      "Total number of people in the queue 50\n",
      "Total number of people in the queue 51\n",
      "Total number of people in the queue 52\n",
      "Total number of people in the queue 53\n",
      "Total number of people in the queue 54\n",
      "Total number of people in the queue 55\n",
      "Total number of people in the queue 56\n",
      "Total number of people in the queue 57\n",
      "Total number of people in the queue 58\n",
      "Total number of people in the queue 59\n",
      "Total number of people in the queue 60\n",
      "Total number of people in the queue 61\n",
      "Total number of people in the queue 62\n",
      "Total number of people in the queue 63\n",
      "Total number of people in the queue 64\n",
      "Total number of people in the queue 65\n",
      "Total number of people in the queue 66\n",
      "Total number of people in the queue 67\n",
      "Total number of people in the queue 68\n",
      "Total number of people in the queue 69\n",
      "Total number of people in the queue 70\n",
      "The trip up is finished by lift 3 176.89247036111493\n",
      "The trip up is finished by lift 2 177.82266040912825\n",
      "Total number of people in the queue 71\n",
      "The trip starts at ground floor by lift 2 178.3416339907857\n",
      "Number of people in main queue 61\n",
      "Total number of people in the queue 62\n",
      "The trip starts at ground floor by lift 3 180.6073951473992\n",
      "Number of people in main queue 52\n",
      "Total number of people in the queue 53\n",
      "Total number of people in the queue 54\n",
      "Total number of people in the queue 55\n",
      "Total number of people in the queue 56\n",
      "Total number of people in the queue 57\n",
      "Total number of people in the queue 58\n",
      "The trip up is finished by lift 3 190.7969546700291\n",
      "Total number of people in the queue 59\n",
      "The trip starts at ground floor by lift 3 192.3247922673592\n",
      "Number of people in main queue 49\n",
      "Total number of people in the queue 50\n",
      "Total number of people in the queue 51\n",
      "Total number of people in the queue 52\n",
      "Total number of people in the queue 53\n",
      "Total number of people in the queue 54\n",
      "Total number of people in the queue 55\n",
      "Total number of people in the queue 56\n",
      "Total number of people in the queue 57\n",
      "Total number of people in the queue 58\n",
      "Total number of people in the queue 59\n",
      "Total number of people in the queue 60\n",
      "Total number of people in the queue 61\n",
      "Total number of people in the queue 62\n",
      "Total number of people in the queue 63\n",
      "Total number of people in the queue 64\n",
      "Total number of people in the queue 65\n",
      "Total number of people in the queue 66\n",
      "Total number of people in the queue 67\n",
      "Total number of people in the queue 68\n",
      "Total number of people in the queue 69\n",
      "Total number of people in the queue 70\n",
      "Total number of people in the queue 71\n",
      "Total number of people in the queue 72\n",
      "Total number of people in the queue 73\n",
      "Total number of people in the queue 74\n",
      "Total number of people in the queue 75\n",
      "Total number of people in the queue 76\n",
      "Total number of people in the queue 77\n",
      "Total number of people in the queue 78\n",
      "Total number of people in the queue 79\n",
      "Total number of people in the queue 80\n",
      "Total number of people in the queue 81\n",
      "Total number of people in the queue 82\n",
      "Total number of people in the queue 83\n",
      "Total number of people in the queue 84\n",
      "Total number of people in the queue 85\n",
      "Total number of people in the queue 86\n",
      "Total number of people in the queue 87\n",
      "Total number of people in the queue 88\n",
      "Total number of people in the queue 89\n",
      "Total number of people in the queue 90\n",
      "Total number of people in the queue 91\n",
      "Total number of people in the queue 92\n",
      "Total number of people in the queue 93\n",
      "Total number of people in the queue 94\n",
      "Total number of people in the queue 95\n",
      "Total number of people in the queue 96\n",
      "Total number of people in the queue 97\n",
      "Total number of people in the queue 98\n",
      "Total number of people in the queue 99\n",
      "Total number of people in the queue 100\n",
      "Total number of people in the queue 101\n",
      "Total number of people in the queue 102\n",
      "Total number of people in the queue 103\n",
      "Total number of people in the queue 104\n"
     ]
    }
   ],
   "source": [
    "class Scheduling:\n",
    "    \"\"\" Source generates passengers \n",
    "    adding people to queue\"\"\"\n",
    "    \n",
    "    def generate(self, env , main_queue):\n",
    "        #i = 0\n",
    "        while True:\n",
    "            tnow = env.now\n",
    "            arrival_rate = 1/1.9557\n",
    "            t = random.expovariate(arrival_rate)\n",
    "            #print(\"Time of arrival\", tnow)\n",
    "            pass_person = Lifter()\n",
    "            main_queue.enqueue(pass_person)\n",
    "            print(\"Total number of people in the queue\" , main_queue.size())\n",
    "            yield env.timeout(t)\n",
    "            if ((main_queue.size() > 10) and (G.elCount < 3)):\n",
    "                e = Lift()\n",
    "                G.elCount = G.elCount + 1\n",
    "                env.process(e.ferry(env,main_queue))\n",
    "\n",
    "            #i += 1\n",
    "            \n",
    "            \n",
    "elevator1 = Process()\n",
    "elevator1.run(1234)"
   ]
  },
  {
   "cell_type": "code",
   "execution_count": null,
   "metadata": {},
   "outputs": [],
   "source": []
  }
 ],
 "metadata": {
  "kernelspec": {
   "display_name": "Python 3",
   "language": "python",
   "name": "python3"
  },
  "language_info": {
   "codemirror_mode": {
    "name": "ipython",
    "version": 3
   },
   "file_extension": ".py",
   "mimetype": "text/x-python",
   "name": "python",
   "nbconvert_exporter": "python",
   "pygments_lexer": "ipython3",
   "version": "3.6.5"
  }
 },
 "nbformat": 4,
 "nbformat_minor": 2
}
